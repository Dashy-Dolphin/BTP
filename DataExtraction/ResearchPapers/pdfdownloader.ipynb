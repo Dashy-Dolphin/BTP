{
 "cells": [
  {
   "cell_type": "code",
   "execution_count": null,
   "metadata": {},
   "outputs": [],
   "source": [
    "import requests\n",
    "from bs4 import BeautifulSoup\n",
    "import wget"
   ]
  },
  {
   "cell_type": "code",
   "execution_count": null,
   "metadata": {},
   "outputs": [],
   "source": [
    "\n",
    "issuenumbers = [1,2,3]\n",
    "startingyear = 2022\n",
    "startingissue =6\n",
    "noofyears=3\n",
    "Articledir=\"./researchpapers/\"\n",
    "\n",
    "vol_issue_url=\"https://dl.acm.org/toc/pomacs/{year}/{volumenumber}/{issuenumber}\"\n",
    "domain= \"https://dl.acm.org\"\n",
    "def get_urls(url):\n",
    "    page = requests.get(url)\n",
    "    html = page.text\n",
    "    # Parse the HTML content\n",
    "    soup = BeautifulSoup(html, 'html.parser')\n",
    "\n",
    "    # Find the div with the class 'toc-title'\n",
    "    title_classes = soup.find_all(class_ = \"issue-item__title\")\n",
    "\n",
    "\n",
    "    #print all href links in above div\n",
    "    urls = []\n",
    "    for title_class in title_classes:\n",
    "        urls.append(title_class.a['href'])\n",
    "\n",
    "    return urls\n",
    "\n",
    "# def download_pdf(url, Pdfdir):\n",
    "#     # response = requests.get(url)\n",
    "#     # save it using wget\n",
    "\n",
    "#     # download the pdf using wget\n",
    "    \n",
    "#     wget.download(url, Pdfdir)\n",
    "\n",
    "#     # with open(Pdfdir, 'wb') as f:\n",
    "#     #     f.write(response.content)\n",
    "\n",
    "\n",
    "\n",
    "        "
   ]
  },
  {
   "cell_type": "code",
   "execution_count": null,
   "metadata": {},
   "outputs": [],
   "source": [
    "\n",
    "from selenium import webdriver\n",
    "from selenium.webdriver.common.keys import Keys\n",
    "from selenium.webdriver.common.by import By\n",
    "import time\n",
    "\n",
    "options = webdriver.ChromeOptions()\n",
    "download_dir = \"/home/sasi/Desktop/Final_Sem/CS4805_BTP/Exp4/Sigmetrics\"\n",
    "# options.add_argument('headless')\n",
    "preferences = {\"download.default_directory\": download_dir ,\n",
    "               \"download.prompt_for_download\":False,\n",
    "               \"download.directory_upgrade\": True,\n",
    "               \n",
    "                \"plugins.always_open_pdf_externally\": True }\n",
    "options.add_experimental_option(\"prefs\", preferences)\n",
    "options.add_argument(\"--start-maximized\")\n",
    "options.page_load_strategy = 'normal'\n",
    "driver = webdriver.Chrome(options)\n",
    "\n",
    "driver.get(\"https://dl.acm.org/\")\n",
    "\n",
    "\n"
   ]
  },
  {
   "cell_type": "code",
   "execution_count": null,
   "metadata": {},
   "outputs": [],
   "source": [
    "driver.get(\"https://dl.acm.org/doi/pdf/10.1145/3626780\")"
   ]
  },
  {
   "cell_type": "code",
   "execution_count": null,
   "metadata": {},
   "outputs": [],
   "source": [
    "with open(\"dummy.html\",\"wb\") as f:\n",
    "\n",
    "    #download the file corresponding to the url\n",
    "    \n",
    "    f.write(bytes(driver.page_source.encode(\"utf-8\")))\n",
    "\n"
   ]
  },
  {
   "cell_type": "code",
   "execution_count": null,
   "metadata": {},
   "outputs": [],
   "source": [
    "\n",
    "def download_pdf(url, Pdfdir):\n",
    "    #use the driver to get the url\n",
    "    #get the response\n",
    "    \n",
    "    response = requests.get(url)\n",
    "    response = driver.get(url)\n",
    "    response = driver.command_executor._request(\"GET\",url)\n",
    "    #save the page loaded in driver\n",
    "    if driver.command_executor.keep_alive:\n",
    "            response = driver.command_executor._conn.request(\"GET\", url)\n",
    "            statuscode = response.status\n",
    "    else:\n",
    "            conn = driver.command_executor._get_connection_manager()\n",
    "            with conn as http:\n",
    "                response = http.request(\"GET\", url)\n",
    "            statuscode = response.status\n",
    "\n",
    "    #get the response for the url using driver\n",
    "    \n",
    "\n",
    "    with open(Pdfdir, 'wb') as f:\n",
    "        f.write(bytes(response))\n",
    "    print(response)\n"
   ]
  },
  {
   "cell_type": "code",
   "execution_count": null,
   "metadata": {},
   "outputs": [],
   "source": [
    "for i in range(noofyears):\n",
    "    for issuenumber in issuenumbers:\n",
    "        url = vol_issue_url.format(year=startingyear+i,volumenumber=startingissue+i, issuenumber=issuenumber)\n",
    "        # print(url)\n",
    "        urls = get_urls(url)\n",
    "        for url in urls:\n",
    "\n",
    "            urld = url.split('/')\n",
    "            #add pdf to url at first positon\n",
    "            urld.insert(2, 'pdf')\n",
    "            urld = '/'.join(urld)\n",
    "            urld = domain + urld\n",
    "\n",
    "            #save the pdf\n",
    "            title = url.split('/')[-1]\n",
    "            # print(title)\n",
    "            # print(urld)\n",
    "            pdffile =Articledir + title + \".pdf\"\n",
    "            print(urld)\n",
    "            driver.get(urld)\n",
    "            # download_pdf(urld, pdffile)\n",
    "      \n",
    "\n",
    "            \n",
    "\n",
    "\n",
    "\n",
    "        \n",
    "\n",
    "       \n"
   ]
  }
 ],
 "metadata": {
  "kernelspec": {
   "display_name": "Python 3",
   "language": "python",
   "name": "python3"
  },
  "language_info": {
   "codemirror_mode": {
    "name": "ipython",
    "version": 3
   },
   "file_extension": ".py",
   "mimetype": "text/x-python",
   "name": "python",
   "nbconvert_exporter": "python",
   "pygments_lexer": "ipython3",
   "version": "3.10.12"
  }
 },
 "nbformat": 4,
 "nbformat_minor": 2
}
