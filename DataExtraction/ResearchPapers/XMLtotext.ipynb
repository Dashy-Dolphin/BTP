{
 "cells": [
  {
   "cell_type": "code",
   "execution_count": null,
   "metadata": {},
   "outputs": [],
   "source": [
    "##Author: YSS Narasimha Naidu\n",
    "## March 15th 2024\n",
    "\n",
    "import requests\n",
    "from lxml import etree\n",
    "from lxml.html import parse\n",
    "from lxml.html.clean import Cleaner\n",
    "from lxml.cssselect import CSSSelector\n",
    "import os\n"
   ]
  },
  {
   "cell_type": "code",
   "execution_count": null,
   "metadata": {},
   "outputs": [],
   "source": [
    "def page_download(url,inputdir,outputdir):\n",
    "    base = url.split('/')[-1]\n",
    "    inputname = inputdir + base + \".html\"\n",
    "    outputname = outputdir + base + \".txt\"\n",
    "\n",
    "    page = requests.get(url)\n",
    "\n",
    "    open(inputname,\"w\").write(page.content.decode())\n",
    "\n",
    "\n",
    "    fp = open(outputname, 'w')\n",
    "    # cleaner = Cleaner()\n",
    "    \n",
    "    #delete_tags= ['span','sup','style','displaystyle','math','small']\n",
    "    accept_tags= ['p','div']\n",
    "    doc = parse( inputname).getroot()\n",
    "    ## get the element with class = \"mw-page-container\"\n",
    "\n",
    "    ## get the element in doc that has id body-content\n",
    "\n",
    "\n",
    "    for element in doc.iter():\n",
    "        if element.tag in accept_tags:\n",
    "            for subelem in element:\n",
    "                if (subelem.tag not in accept_tags):\n",
    "                    subelem.clear()\n",
    "                    subelem.text = \" \"\n",
    "            fp.write(element.text_content() )\n",
    "\n",
    "\n",
    "\n",
    "\n",
    "    fp.close()\n",
    "    \n",
    "\n",
    "    fp = open( outputname,'r')\n",
    "    fp.seek(0, os.SEEK_END)\n",
    "    print(\"Size of file\" + outputname +  \" is :\", fp.tell(), \"bytes\")\n",
    "    fp.close()"
   ]
  },
  {
   "cell_type": "code",
   "execution_count": null,
   "metadata": {},
   "outputs": [],
   "source": [
    "Outputdir = '/home/sasi/Desktop/Final_Sem/CS4805_BTP/Exp4/Sigmetrics/researchxml/'\n",
    "Inputdir =  '/home/sasi/Desktop/Final_Sem/CS4805_BTP/Exp4/Sigmetrics/researchpapers/'\n",
    "FinalTextdir = '/home/sasi/Desktop/Final_Sem/CS4805_BTP/Exp4/Sigmetrics/researchtext/'"
   ]
  },
  {
   "cell_type": "code",
   "execution_count": null,
   "metadata": {},
   "outputs": [],
   "source": [
    "from grobid_client.grobid_client import GrobidClient\n",
    "\n",
    "\n",
    "if __name__ == \"__main__\":\n",
    "    client = GrobidClient(config_path=\"./config.json\")\n",
    "    client.process(\"processFulltextDocument\", Inputdir, output=Outputdir)\n"
   ]
  },
  {
   "cell_type": "code",
   "execution_count": null,
   "metadata": {},
   "outputs": [],
   "source": [
    "\n",
    "def xmlparser(file,Outputdir,Finaltextdir):\n",
    "    base = file.split('.')[0]\n",
    "    inputname =  Outputdir + file\n",
    "    outputname =  Finaltextdir +\"/\"+ base+\".txt\"\n",
    "    fp = open(outputname, 'w')\n",
    "    # cleaner = Cleaner()\n",
    "\n",
    "    delete_tags= ['ref','formula']\n",
    "    accept_tags= ['p']\n",
    "    ignore_tags = ['note']\n",
    "    doc = parse( inputname).getroot()\n",
    "    ## get the element with class = \"mw-page-container\"\n",
    "\n",
    "    ## get the element in doc that has id body-content\n",
    "\n",
    "\n",
    "    for element in doc.iter():\n",
    "        if (element.tag in ignore_tags):\n",
    "            element.clear()\n",
    "        elif (element.tag in accept_tags) :\n",
    "            for subelem in element:\n",
    "                if (subelem.tag in delete_tags):\n",
    "                    # subelem.clear()\n",
    "                    subelem.text = \" \"\n",
    "            fp.write(element.text_content()  + \"\\n\")\n",
    "\n",
    "    print(file)\n",
    "\n",
    "\n",
    "    fp.close()"
   ]
  },
  {
   "cell_type": "code",
   "execution_count": null,
   "metadata": {},
   "outputs": [],
   "source": [
    "##Grobid Command line interface was used to convert the pdf files to xml files.\n"
   ]
  },
  {
   "cell_type": "code",
   "execution_count": null,
   "metadata": {},
   "outputs": [],
   "source": [
    "import multiprocessing\n",
    "from joblib import Parallel, delayed\n",
    "\n",
    "num_cores = multiprocessing.cpu_count()\n",
    "\n",
    "\n",
    "files = os.listdir(Outputdir)\n",
    "\n",
    "# for file in files:\n",
    "#     #chunker(chunk_lst, Articles_dir + file, chunk_len = 32)\n",
    "#     print(file)\n",
    "   \n",
    "#     xmlparser(file,Outputdir,FinalTextdir)\n",
    "\n",
    "if __name__ == \"__main__\":\n",
    "    processed_list = Parallel(n_jobs=num_cores-2)(delayed(xmlparser) (file,Outputdir,FinalTextdir) \n",
    "                                                        for file in files  )\n",
    "\n",
    "    #do gorbet conversion here"
   ]
  }
 ],
 "metadata": {
  "kernelspec": {
   "display_name": "Python 3",
   "language": "python",
   "name": "python3"
  },
  "language_info": {
   "codemirror_mode": {
    "name": "ipython",
    "version": 3
   },
   "file_extension": ".py",
   "mimetype": "text/x-python",
   "name": "python",
   "nbconvert_exporter": "python",
   "pygments_lexer": "ipython3",
   "version": "3.10.12"
  }
 },
 "nbformat": 4,
 "nbformat_minor": 2
}
