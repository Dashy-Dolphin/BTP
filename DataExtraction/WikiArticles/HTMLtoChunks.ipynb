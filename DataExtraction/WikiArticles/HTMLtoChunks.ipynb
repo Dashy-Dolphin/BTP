{
 "cells": [
  {
   "cell_type": "code",
   "execution_count": null,
   "metadata": {},
   "outputs": [],
   "source": [
    "\n",
    "import requests\n",
    "from bs4 import BeautifulSoup\n",
    "\n",
    "def extract_content(url):\n",
    "    # Send a GET request to the URL\n",
    "    response = requests.get(url)\n",
    "\n",
    "    # Parse the HTML content\n",
    "    soup = BeautifulSoup(response.text, 'html.parser')\n",
    "\n",
    "    # Find the main content div\n",
    "    content_div = soup.find('div', id='mw-content-text')\n",
    "\n",
    "    # Delete specified tags\n",
    "    delete_tags = ['span', 'sup', 'style', 'math', 'table']\n",
    "    for tag in delete_tags:\n",
    "        for element in content_div.find_all(tag):\n",
    "            element.decompose()\n",
    "\n",
    "    # Extract text from paragraphs\n",
    "    paragraphs = content_div.find_all('p')\n",
    "    text = ''.join(p.get_text() for p in paragraphs)\n",
    "\n",
    "    return text\n",
    "\n",
    "def save_to_file(title, content):\n",
    "    with open(f'{title}.txt', 'w', encoding='utf-8') as file:\n",
    "        file.write(content)\n",
    "\n",
    "\n"
   ]
  },
  {
   "cell_type": "code",
   "execution_count": null,
   "metadata": {},
   "outputs": [],
   "source": [
    "# Read the list of Wikipedia article URLs from the file\n",
    "with open('output_links_ai.txt', 'r', encoding='utf-8') as file:\n",
    "    article_urls = [line.strip() for line in file]\n",
    "    print(len(article_urls))\n",
    "    article_urls = list(set(article_urls))\n",
    "    print(len(article_urls))\n",
    "\n",
    "# Base URL of Wikipedia\n",
    "base_url = 'https://en.wikipedia.org'\n",
    "dir = 'cleaned_articles/'\n",
    "# Iterate through each article URL\n",
    "for url in article_urls:\n",
    "    if url == \"/wiki/Wikipedia:FAQ/Categorization#Why_might_a_category_list_not_be_up_to_date?\":\n",
    "        continue\n",
    "    full_url = f'{base_url}{url}'\n",
    "    content = extract_content(full_url)\n",
    "    title = dir + url.split('/')[-1]  # Extract the title from the URL\n",
    "    save_to_file(title, content)"
   ]
  }
 ],
 "metadata": {
  "kernelspec": {
   "display_name": "Python 3",
   "language": "python",
   "name": "python3"
  },
  "language_info": {
   "codemirror_mode": {
    "name": "ipython",
    "version": 3
   },
   "file_extension": ".py",
   "mimetype": "text/x-python",
   "name": "python",
   "nbconvert_exporter": "python",
   "pygments_lexer": "ipython3",
   "version": "3.10.12"
  }
 },
 "nbformat": 4,
 "nbformat_minor": 2
}
